{
 "cells": [
  {
   "cell_type": "markdown",
   "metadata": {},
   "source": [
    "# Exploratory Data Analysis"
   ]
  },
  {
   "cell_type": "code",
   "execution_count": null,
   "metadata": {},
   "outputs": [],
   "source": [
    "import pandas as pd\n",
    "import numpy as np\n",
    "import matplotlib.pyplot as plt\n",
    "import seaborn as sns\n",
    "import os\n",
    "import sys\n",
    "\n",
    "# So the plots display nicely in the notebook\n",
    "%matplotlib inline\n",
    "sns.set_style(\"whitegrid\")\n",
    "\n",
    "sys.path.append(os.path.abspath(\"..\"))\n",
    "from src.data_processing import *\n"
   ]
  },
  {
   "cell_type": "markdown",
   "metadata": {},
   "source": [
    "## Dataset size and structure"
   ]
  },
  {
   "cell_type": "code",
   "execution_count": null,
   "metadata": {},
   "outputs": [],
   "source": [
    "train_transaction, train_identity, test_transaction, test_identity = load_raw_data()"
   ]
  },
  {
   "cell_type": "code",
   "execution_count": null,
   "metadata": {},
   "outputs": [],
   "source": [
    "df_train_merged = train_transaction.merge(train_identity, on=\"TransactionID\", how=\"left\")"
   ]
  },
  {
   "cell_type": "markdown",
   "metadata": {},
   "source": [
    "### Shape\n",
    "How many rows and columns does the dataset have?"
   ]
  },
  {
   "cell_type": "code",
   "execution_count": null,
   "metadata": {},
   "outputs": [
    {
     "name": "stdout",
     "output_type": "stream",
     "text": [
      "Train transaction shape:  (590540, 394)\n",
      "Train identity shape:  (144233, 41)\n"
     ]
    }
   ],
   "source": [
    "print(\"Train transaction shape: \", train_transaction.shape)\n",
    "print(\"Train identity shape: \", train_identity.shape)"
   ]
  },
  {
   "cell_type": "code",
   "execution_count": 6,
   "metadata": {},
   "outputs": [
    {
     "name": "stdout",
     "output_type": "stream",
     "text": [
      "Shape of the merged train set: (590540, 434)\n",
      "\n",
      "Columns:\n",
      " Index(['TransactionID', 'isFraud', 'TransactionDT', 'TransactionAmt',\n",
      "       'ProductCD', 'card1', 'card2', 'card3', 'card4', 'card5',\n",
      "       ...\n",
      "       'id_31', 'id_32', 'id_33', 'id_34', 'id_35', 'id_36', 'id_37', 'id_38',\n",
      "       'DeviceType', 'DeviceInfo'],\n",
      "      dtype='object', length=434)\n"
     ]
    },
    {
     "data": {
      "text/html": [
       "<div>\n",
       "<style scoped>\n",
       "    .dataframe tbody tr th:only-of-type {\n",
       "        vertical-align: middle;\n",
       "    }\n",
       "\n",
       "    .dataframe tbody tr th {\n",
       "        vertical-align: top;\n",
       "    }\n",
       "\n",
       "    .dataframe thead th {\n",
       "        text-align: right;\n",
       "    }\n",
       "</style>\n",
       "<table border=\"1\" class=\"dataframe\">\n",
       "  <thead>\n",
       "    <tr style=\"text-align: right;\">\n",
       "      <th></th>\n",
       "      <th>TransactionID</th>\n",
       "      <th>isFraud</th>\n",
       "      <th>TransactionDT</th>\n",
       "      <th>TransactionAmt</th>\n",
       "      <th>ProductCD</th>\n",
       "      <th>card1</th>\n",
       "      <th>card2</th>\n",
       "      <th>card3</th>\n",
       "      <th>card4</th>\n",
       "      <th>card5</th>\n",
       "      <th>...</th>\n",
       "      <th>id_31</th>\n",
       "      <th>id_32</th>\n",
       "      <th>id_33</th>\n",
       "      <th>id_34</th>\n",
       "      <th>id_35</th>\n",
       "      <th>id_36</th>\n",
       "      <th>id_37</th>\n",
       "      <th>id_38</th>\n",
       "      <th>DeviceType</th>\n",
       "      <th>DeviceInfo</th>\n",
       "    </tr>\n",
       "  </thead>\n",
       "  <tbody>\n",
       "    <tr>\n",
       "      <th>0</th>\n",
       "      <td>2987000</td>\n",
       "      <td>0</td>\n",
       "      <td>86400</td>\n",
       "      <td>68.5</td>\n",
       "      <td>W</td>\n",
       "      <td>13926</td>\n",
       "      <td>NaN</td>\n",
       "      <td>150.0</td>\n",
       "      <td>discover</td>\n",
       "      <td>142.0</td>\n",
       "      <td>...</td>\n",
       "      <td>NaN</td>\n",
       "      <td>NaN</td>\n",
       "      <td>NaN</td>\n",
       "      <td>NaN</td>\n",
       "      <td>NaN</td>\n",
       "      <td>NaN</td>\n",
       "      <td>NaN</td>\n",
       "      <td>NaN</td>\n",
       "      <td>NaN</td>\n",
       "      <td>NaN</td>\n",
       "    </tr>\n",
       "    <tr>\n",
       "      <th>1</th>\n",
       "      <td>2987001</td>\n",
       "      <td>0</td>\n",
       "      <td>86401</td>\n",
       "      <td>29.0</td>\n",
       "      <td>W</td>\n",
       "      <td>2755</td>\n",
       "      <td>404.0</td>\n",
       "      <td>150.0</td>\n",
       "      <td>mastercard</td>\n",
       "      <td>102.0</td>\n",
       "      <td>...</td>\n",
       "      <td>NaN</td>\n",
       "      <td>NaN</td>\n",
       "      <td>NaN</td>\n",
       "      <td>NaN</td>\n",
       "      <td>NaN</td>\n",
       "      <td>NaN</td>\n",
       "      <td>NaN</td>\n",
       "      <td>NaN</td>\n",
       "      <td>NaN</td>\n",
       "      <td>NaN</td>\n",
       "    </tr>\n",
       "    <tr>\n",
       "      <th>2</th>\n",
       "      <td>2987002</td>\n",
       "      <td>0</td>\n",
       "      <td>86469</td>\n",
       "      <td>59.0</td>\n",
       "      <td>W</td>\n",
       "      <td>4663</td>\n",
       "      <td>490.0</td>\n",
       "      <td>150.0</td>\n",
       "      <td>visa</td>\n",
       "      <td>166.0</td>\n",
       "      <td>...</td>\n",
       "      <td>NaN</td>\n",
       "      <td>NaN</td>\n",
       "      <td>NaN</td>\n",
       "      <td>NaN</td>\n",
       "      <td>NaN</td>\n",
       "      <td>NaN</td>\n",
       "      <td>NaN</td>\n",
       "      <td>NaN</td>\n",
       "      <td>NaN</td>\n",
       "      <td>NaN</td>\n",
       "    </tr>\n",
       "    <tr>\n",
       "      <th>3</th>\n",
       "      <td>2987003</td>\n",
       "      <td>0</td>\n",
       "      <td>86499</td>\n",
       "      <td>50.0</td>\n",
       "      <td>W</td>\n",
       "      <td>18132</td>\n",
       "      <td>567.0</td>\n",
       "      <td>150.0</td>\n",
       "      <td>mastercard</td>\n",
       "      <td>117.0</td>\n",
       "      <td>...</td>\n",
       "      <td>NaN</td>\n",
       "      <td>NaN</td>\n",
       "      <td>NaN</td>\n",
       "      <td>NaN</td>\n",
       "      <td>NaN</td>\n",
       "      <td>NaN</td>\n",
       "      <td>NaN</td>\n",
       "      <td>NaN</td>\n",
       "      <td>NaN</td>\n",
       "      <td>NaN</td>\n",
       "    </tr>\n",
       "    <tr>\n",
       "      <th>4</th>\n",
       "      <td>2987004</td>\n",
       "      <td>0</td>\n",
       "      <td>86506</td>\n",
       "      <td>50.0</td>\n",
       "      <td>H</td>\n",
       "      <td>4497</td>\n",
       "      <td>514.0</td>\n",
       "      <td>150.0</td>\n",
       "      <td>mastercard</td>\n",
       "      <td>102.0</td>\n",
       "      <td>...</td>\n",
       "      <td>samsung browser 6.2</td>\n",
       "      <td>32.0</td>\n",
       "      <td>2220x1080</td>\n",
       "      <td>match_status:2</td>\n",
       "      <td>T</td>\n",
       "      <td>F</td>\n",
       "      <td>T</td>\n",
       "      <td>T</td>\n",
       "      <td>mobile</td>\n",
       "      <td>SAMSUNG SM-G892A Build/NRD90M</td>\n",
       "    </tr>\n",
       "  </tbody>\n",
       "</table>\n",
       "<p>5 rows × 434 columns</p>\n",
       "</div>"
      ],
      "text/plain": [
       "   TransactionID  isFraud  TransactionDT  TransactionAmt ProductCD  card1  \\\n",
       "0        2987000        0          86400            68.5         W  13926   \n",
       "1        2987001        0          86401            29.0         W   2755   \n",
       "2        2987002        0          86469            59.0         W   4663   \n",
       "3        2987003        0          86499            50.0         W  18132   \n",
       "4        2987004        0          86506            50.0         H   4497   \n",
       "\n",
       "   card2  card3       card4  card5  ...                id_31  id_32  \\\n",
       "0    NaN  150.0    discover  142.0  ...                  NaN    NaN   \n",
       "1  404.0  150.0  mastercard  102.0  ...                  NaN    NaN   \n",
       "2  490.0  150.0        visa  166.0  ...                  NaN    NaN   \n",
       "3  567.0  150.0  mastercard  117.0  ...                  NaN    NaN   \n",
       "4  514.0  150.0  mastercard  102.0  ...  samsung browser 6.2   32.0   \n",
       "\n",
       "       id_33           id_34  id_35 id_36 id_37  id_38  DeviceType  \\\n",
       "0        NaN             NaN    NaN   NaN   NaN    NaN         NaN   \n",
       "1        NaN             NaN    NaN   NaN   NaN    NaN         NaN   \n",
       "2        NaN             NaN    NaN   NaN   NaN    NaN         NaN   \n",
       "3        NaN             NaN    NaN   NaN   NaN    NaN         NaN   \n",
       "4  2220x1080  match_status:2      T     F     T      T      mobile   \n",
       "\n",
       "                      DeviceInfo  \n",
       "0                            NaN  \n",
       "1                            NaN  \n",
       "2                            NaN  \n",
       "3                            NaN  \n",
       "4  SAMSUNG SM-G892A Build/NRD90M  \n",
       "\n",
       "[5 rows x 434 columns]"
      ]
     },
     "execution_count": 6,
     "metadata": {},
     "output_type": "execute_result"
    }
   ],
   "source": [
    "print(\"Shape of the merged train set:\", df_train_merged.shape)\n",
    "print(\"\\nColumns:\\n\", df_train_merged.columns)\n",
    "df_train_merged.head()"
   ]
  },
  {
   "cell_type": "markdown",
   "metadata": {},
   "source": [
    "### Type of variables\n",
    "What types of variables are present (categorical, numerical, dates, etc.)?"
   ]
  },
  {
   "cell_type": "code",
   "execution_count": 7,
   "metadata": {},
   "outputs": [
    {
     "data": {
      "text/plain": [
       "float64    399\n",
       "object      31\n",
       "int64        4\n",
       "Name: count, dtype: int64"
      ]
     },
     "execution_count": 7,
     "metadata": {},
     "output_type": "execute_result"
    }
   ],
   "source": [
    "# Types of variables\n",
    "df_train_merged.dtypes.value_counts()\n"
   ]
  },
  {
   "cell_type": "markdown",
   "metadata": {},
   "source": [
    "## Distribution of key variables"
   ]
  },
  {
   "cell_type": "markdown",
   "metadata": {},
   "source": [
    "### TransactionAmt\n",
    "Analyze the distribution of TransactionAmt (transaction amount)."
   ]
  },
  {
   "cell_type": "code",
   "execution_count": 8,
   "metadata": {},
   "outputs": [
    {
     "data": {
      "image/png": "[encoded data removed]",
      "text/plain": [
       "<Figure size 1000x500 with 1 Axes>"
      ]
     },
     "metadata": {},
     "output_type": "display_data"
    }
   ],
   "source": [
    "# Distribution of TransactionAmt\n",
    "plt.figure(figsize=(10,5))\n",
    "sns.histplot(df_train_merged[\"TransactionAmt\"], bins=100, kde=True)\n",
    "plt.title(\"Distribution of TransactionAmt\")\n",
    "plt.xlabel(\"Transaction Amount (USD)\")\n",
    "plt.ylabel(\"Frequency\")\n",
    "plt.show()\n"
   ]
  },
  {
   "cell_type": "code",
   "execution_count": 9,
   "metadata": {},
   "outputs": [
    {
     "data": {
      "image/png": "[encoded data removed]",
      "text/plain": [
       "<Figure size 1000x500 with 1 Axes>"
      ]
     },
     "metadata": {},
     "output_type": "display_data"
    }
   ],
   "source": [
    "plt.figure(figsize=(10,5))\n",
    "sns.histplot(df_train_merged[\"TransactionAmt\"], bins=100, kde=True)\n",
    "plt.xlim(0, 2000)\n",
    "plt.title(\"Zoomed Distribution of TransactionAmt (0 - 2000 USD)\")\n",
    "plt.xlabel(\"Transaction Amount (USD)\")\n",
    "plt.ylabel(\"Frequency\")\n",
    "plt.show()\n"
   ]
  },
  {
   "cell_type": "markdown",
   "metadata": {},
   "source": [
    "### card4\n",
    "Check the frequency of each category in card4 (card type: Visa, Mastercard, etc.)."
   ]
  },
  {
   "cell_type": "code",
   "execution_count": 10,
   "metadata": {},
   "outputs": [
    {
     "data": {
      "image/png": "[encoded data removed]",
      "text/plain": [
       "<Figure size 600x400 with 1 Axes>"
      ]
     },
     "metadata": {},
     "output_type": "display_data"
    },
    {
     "name": "stdout",
     "output_type": "stream",
     "text": [
      "Unique card4 types: ['discover' 'mastercard' 'visa' 'american express' nan]\n"
     ]
    }
   ],
   "source": [
    "# card4 Frequency\n",
    "plt.figure(figsize=(6,4))\n",
    "sns.countplot(x=\"card4\", data=df_train_merged)\n",
    "plt.title(\"Frequency of card4\")\n",
    "plt.xlabel(\"Card Type\")\n",
    "plt.ylabel(\"Count\")\n",
    "plt.show()\n",
    "\n",
    "# Check unique values in card4\n",
    "print(\"Unique card4 types:\", df_train_merged[\"card4\"].unique())\n"
   ]
  },
  {
   "cell_type": "markdown",
   "metadata": {},
   "source": [
    "### ProductCD\n",
    "Observe the ProductCD variable: how many types of products are there and how are they distributed?"
   ]
  },
  {
   "cell_type": "code",
   "execution_count": 11,
   "metadata": {},
   "outputs": [
    {
     "data": {
      "image/png": "[encoded data removed]",
      "text/plain": [
       "<Figure size 600x400 with 1 Axes>"
      ]
     },
     "metadata": {},
     "output_type": "display_data"
    },
    {
     "name": "stdout",
     "output_type": "stream",
     "text": [
      "Unique ProductCD types: ['W' 'H' 'C' 'S' 'R']\n"
     ]
    }
   ],
   "source": [
    "plt.figure(figsize=(6,4))\n",
    "sns.countplot(x=\"ProductCD\", data=df_train_merged)\n",
    "plt.title(\"Distribution of ProductCD\")\n",
    "plt.xlabel(\"ProductCD\")\n",
    "plt.ylabel(\"Count\")\n",
    "plt.show()\n",
    "\n",
    "# Check unique values in ProductCD\n",
    "print(\"Unique ProductCD types:\", df_train_merged[\"ProductCD\"].unique())"
   ]
  },
  {
   "cell_type": "markdown",
   "metadata": {},
   "source": [
    "### isFraud"
   ]
  },
  {
   "cell_type": "code",
   "execution_count": 12,
   "metadata": {},
   "outputs": [
    {
     "data": {
      "image/png": "[encoded data removed]",
      "text/plain": [
       "<Figure size 600x400 with 1 Axes>"
      ]
     },
     "metadata": {},
     "output_type": "display_data"
    }
   ],
   "source": [
    "# We should check if the data is balanced\n",
    "plt.figure(figsize=(6,4))\n",
    "sns.countplot(x=\"isFraud\", data=df_train_merged)\n",
    "plt.title(\"Distribution of isFraud\")\n",
    "plt.xlabel(\"isFraud\")\n",
    "plt.ylabel(\"Count\")\n",
    "plt.show()"
   ]
  },
  {
   "cell_type": "markdown",
   "metadata": {},
   "source": [
    "## Missing Values"
   ]
  },
  {
   "cell_type": "markdown",
   "metadata": {},
   "source": [
    "### Column with most missing values\n",
    "\n",
    "Which columns have the most missing values?"
   ]
  },
  {
   "cell_type": "code",
   "execution_count": null,
   "metadata": {},
   "outputs": [
    {
     "name": "stdout",
     "output_type": "stream",
     "text": [
      "Columns with the highest missing values in train_transaction:\n",
      "        MissingCount  MissingPercentage\n",
      "dist2        552913          93.628374\n",
      "D7           551623          93.409930\n",
      "D13          528588          89.509263\n",
      "D14          528353          89.469469\n",
      "D12          525823          89.041047\n",
      "D6           517353          87.606767\n",
      "D9           515614          87.312290\n",
      "D8           515614          87.312290\n",
      "V153         508595          86.123717\n",
      "V149         508595          86.123717\n"
     ]
    }
   ],
   "source": [
    "# in train_transaction only\n",
    "missing_counts = train_transaction.isnull().sum().sort_values(ascending=False)\n",
    "missing_percentage = (missing_counts / len(train_transaction)) * 100\n",
    "missing_df = pd.DataFrame({\n",
    "    \"MissingCount\": missing_counts,\n",
    "    \"MissingPercentage\": missing_percentage\n",
    "})\n",
    "\n",
    "print(\"Columns with the highest missing values in train_transaction:\\n\", \n",
    "      missing_df.head(10))\n"
   ]
  },
  {
   "cell_type": "code",
   "execution_count": 14,
   "metadata": {},
   "outputs": [
    {
     "name": "stdout",
     "output_type": "stream",
     "text": [
      "Columns with the highest missing values:\n",
      "        MissingCount  MissingPercentage\n",
      "id_24        585793          99.196159\n",
      "id_25        585408          99.130965\n",
      "id_07        585385          99.127070\n",
      "id_08        585385          99.127070\n",
      "id_21        585381          99.126393\n",
      "id_26        585377          99.125715\n",
      "id_27        585371          99.124699\n",
      "id_23        585371          99.124699\n",
      "id_22        585371          99.124699\n",
      "dist2        552913          93.628374\n"
     ]
    }
   ],
   "source": [
    "# columns have the most missing values\n",
    "missing_counts = df_train_merged.isnull().sum().sort_values(ascending=False)\n",
    "missing_percentage = (missing_counts / len(df_train_merged)) * 100\n",
    "missing_df = pd.DataFrame({\n",
    "    \"MissingCount\": missing_counts,\n",
    "    \"MissingPercentage\": missing_percentage\n",
    "})\n",
    "\n",
    "print(\"Columns with the highest missing values:\\n\", \n",
    "      missing_df.head(10))\n"
   ]
  },
  {
   "cell_type": "markdown",
   "metadata": {},
   "source": [
    "### Handling missing values \n",
    "How would you handle missing values for numerical and categorical variables?"
   ]
  },
  {
   "cell_type": "markdown",
   "metadata": {},
   "source": [
    "Our analysis showed that many features have very high missing percentages. For example, in the merged dataset, some identity fields (e.g., `id_24`, `id_25`) have over 99% missing values, while in the transaction-only data, certain time-delta features (e.g., `D7`, `D13`) have missing rates from 87% to 93%.\n",
    "\n",
    "#### Strategies for Numerical Variables:\n",
    "- **Low Missingness (<20%):**  \n",
    "  Impute using the **median** (or mean) since these features are likely to have a balanced distribution.\n",
    "  \n",
    "- **High Missingness (>70-80%):**  \n",
    "  - **Drop the Feature:** If a feature has very high missing values and isn’t expected to contribute much, consider dropping it.\n",
    "  - **Missing Indicator:** Alternatively, create a binary flag (e.g., `D7_missing`) indicating if the value is missing, then impute the missing values (often using the median).  \n",
    "  - **Domain Consideration:** Sometimes high missingness is inherent to the data collection process (e.g., not all transactions have identity information). In such cases, the missingness itself may be informative.\n",
    "\n",
    "#### Strategies for Categorical Variables:\n",
    "- **Impute with a New Category:**  \n",
    "  For categorical fields (like `P_emaildomain` or `card4`), replacing missing values with a category such as `\"Unknown\"` is often effective.\n",
    "- **Mode Imputation:**  \n",
    "  If a particular category is dominant, you might also consider using the mode, but this should be guided by the context of the data.\n"
   ]
  },
  {
   "cell_type": "markdown",
   "metadata": {},
   "source": [
    "## Outliers"
   ]
  },
  {
   "cell_type": "markdown",
   "metadata": {},
   "source": [
    "### TransactionAmt\n",
    "Identify possible outliers in TransactionAmt."
   ]
  },
  {
   "cell_type": "code",
   "execution_count": 15,
   "metadata": {},
   "outputs": [
    {
     "data": {
      "image/png": "[encoded data removed]",
      "text/plain": [
       "<Figure size 1200x200 with 1 Axes>"
      ]
     },
     "metadata": {},
     "output_type": "display_data"
    }
   ],
   "source": [
    "plt.figure(figsize=(12, 2))\n",
    "sns.boxplot(x=df_train_merged[\"TransactionAmt\"])\n",
    "plt.title(\"Boxplot of Transaction Amount\")\n",
    "plt.xlabel(\"Transaction Amount (USD)\")\n",
    "plt.show()\n"
   ]
  },
  {
   "cell_type": "markdown",
   "metadata": {},
   "source": [
    "## Correlations"
   ]
  },
  {
   "cell_type": "markdown",
   "metadata": {},
   "source": [
    "### Numerical values vs TransactionAmt\n",
    "\n",
    "Calculate the correlations between the numerical variables C1, C2,\n",
    "..., C14, D1, D2, ... and the transaction amount (TransactionAmt)."
   ]
  },
  {
   "cell_type": "code",
   "execution_count": 16,
   "metadata": {},
   "outputs": [
    {
     "name": "stderr",
     "output_type": "stream",
     "text": [
      "/var/folders/8c/3n532t214sl7q0wy9wf_qks00000gn/T/ipykernel_26624/2791430678.py:18: FutureWarning: \n",
      "\n",
      "Passing `palette` without assigning `hue` is deprecated and will be removed in v0.14.0. Assign the `y` variable to `hue` and set `legend=False` for the same effect.\n",
      "\n",
      "  sns.barplot(x=corr_with_amt.values, y=corr_with_amt.index, palette=\"coolwarm\", orient='h')\n"
     ]
    },
    {
     "data": {
      "image/png": "[encoded data removed]",
      "text/plain": [
       "<Figure size 1000x800 with 1 Axes>"
      ]
     },
     "metadata": {},
     "output_type": "display_data"
    }
   ],
   "source": [
    "# Keep only numeric columns\n",
    "numeric_df = df_train_merged.select_dtypes(include=[np.number])\n",
    "\n",
    "# We'll pick some numeric columns that are presumably in the dataset\n",
    "# For example, C1 - C14, D1 - D15, etc. Adjust if your data has more/less\n",
    "num_cols = [\"TransactionAmt\"] + [col for col in numeric_df.columns if col.startswith(\"C\")] + \\\n",
    "           [col for col in numeric_df.columns if col.startswith(\"D\")]\n",
    "\n",
    "# Filter the columns that actually exist\n",
    "num_cols = [col for col in num_cols if col in df_train_merged.columns]\n",
    "\n",
    "corr_matrix = df_train_merged[num_cols].corr()\n",
    "# 4. Extract only correlation with TransactionAmt\n",
    "corr_with_amt = corr_matrix[\"TransactionAmt\"].drop(\"TransactionAmt\").sort_values(key=abs, ascending=False)\n",
    "\n",
    "# 5. Plot as horizontal bar chart (clearer than full heatmap)\n",
    "plt.figure(figsize=(10, 8))\n",
    "sns.barplot(x=corr_with_amt.values, y=corr_with_amt.index, palette=\"coolwarm\", orient='h')\n",
    "plt.axvline(0, color='gray', linestyle='--')\n",
    "plt.title(\"Correlation with TransactionAmt (C & D Features)\")\n",
    "plt.xlabel(\"Correlation Coefficient\")\n",
    "plt.ylabel(\"Feature\")\n",
    "plt.tight_layout()\n",
    "plt.show()"
   ]
  },
  {
   "cell_type": "markdown",
   "metadata": {},
   "source": [
    "### Significant correlations\n",
    "\n",
    "What do you notice? Are there significant correlations?"
   ]
  },
  {
   "cell_type": "markdown",
   "metadata": {},
   "source": [
    "We analyzed the correlation between `TransactionAmt` and a set of engineered numerical features starting with `C` and `D`, which represent count-based and time-delta-based values respectively.\n",
    "\n",
    "- Overall, the correlations are **relatively weak** (ranging between -0.08 and +0.10), indicating that no single feature linearly explains `TransactionAmt` very strongly. This is expected in fraud detection tasks, where patterns are often non-linear or hidden in combinations of features.\n",
    "\n",
    "- The most **positively correlated features** with `TransactionAmt` are:\n",
    "  - **Time-delta features:**\n",
    "    - `D7`, `D8`, `D9`, `D14` and etc: These features likely represent time gaps between events (e.g., previous activity, billing updates, etc.). Higher transaction amounts may be associated with **longer delays** or verification processes.\n",
    "    - `D6`, `D13` and etc: Additional time-delta features also showing a mild positive trend with transaction size.\n",
    "\n",
    "- The most **negatively correlated features** include:\n",
    "  - **Count-based features:**\n",
    "    - `C13`, `C2`, `C5`, `C9`, `C14` and etc: These may represent counts (such as the number of addresses, devices, or emails associated with a transaction). A weak negative correlation here suggests that lower transaction amounts are more common when there is frequent reuse of these entities.\n",
    "  - **Time-delta features:**\n",
    "    - `D11`, `D12`, `D15`, `D4`, `D1`, `D10` and etc: These features show a slight negative correlation, possibly indicating that smaller transactions tend to occur when events happen in quick succession.\n",
    "\n",
    "\n",
    "**Conclusion:**\n",
    "\n",
    "While no individual feature shows a strong linear relationship with `TransactionAmt`, several time-based and behavioral features hint at meaningful patterns. This supports the idea that **complex, non-linear models** (e.g., tree-based algorithms) and **feature combinations** will likely be more effective than linear models alone."
   ]
  },
  {
   "cell_type": "code",
   "execution_count": 17,
   "metadata": {},
   "outputs": [
    {
     "data": {
      "text/plain": [
       "0            86400\n",
       "1            86401\n",
       "2            86469\n",
       "3            86499\n",
       "4            86506\n",
       "            ...   \n",
       "590535    15811047\n",
       "590536    15811049\n",
       "590537    15811079\n",
       "590538    15811088\n",
       "590539    15811131\n",
       "Name: TransactionDT, Length: 590540, dtype: int64"
      ]
     },
     "execution_count": 17,
     "metadata": {},
     "output_type": "execute_result"
    }
   ],
   "source": [
    "df_train_merged[\"TransactionDT\"]"
   ]
  },
  {
   "cell_type": "code",
   "execution_count": 18,
   "metadata": {},
   "outputs": [
    {
     "data": {
      "text/html": [
       "<div>\n",
       "<style scoped>\n",
       "    .dataframe tbody tr th:only-of-type {\n",
       "        vertical-align: middle;\n",
       "    }\n",
       "\n",
       "    .dataframe tbody tr th {\n",
       "        vertical-align: top;\n",
       "    }\n",
       "\n",
       "    .dataframe thead th {\n",
       "        text-align: right;\n",
       "    }\n",
       "</style>\n",
       "<table border=\"1\" class=\"dataframe\">\n",
       "  <thead>\n",
       "    <tr style=\"text-align: right;\">\n",
       "      <th></th>\n",
       "      <th>TransactionID</th>\n",
       "      <th>isFraud</th>\n",
       "      <th>TransactionDT</th>\n",
       "      <th>TransactionAmt</th>\n",
       "      <th>ProductCD</th>\n",
       "      <th>card1</th>\n",
       "      <th>card2</th>\n",
       "      <th>card3</th>\n",
       "      <th>card4</th>\n",
       "      <th>card5</th>\n",
       "      <th>...</th>\n",
       "      <th>id_31</th>\n",
       "      <th>id_32</th>\n",
       "      <th>id_33</th>\n",
       "      <th>id_34</th>\n",
       "      <th>id_35</th>\n",
       "      <th>id_36</th>\n",
       "      <th>id_37</th>\n",
       "      <th>id_38</th>\n",
       "      <th>DeviceType</th>\n",
       "      <th>DeviceInfo</th>\n",
       "    </tr>\n",
       "  </thead>\n",
       "  <tbody>\n",
       "    <tr>\n",
       "      <th>0</th>\n",
       "      <td>2987000</td>\n",
       "      <td>0</td>\n",
       "      <td>86400</td>\n",
       "      <td>68.50</td>\n",
       "      <td>W</td>\n",
       "      <td>13926</td>\n",
       "      <td>NaN</td>\n",
       "      <td>150.0</td>\n",
       "      <td>discover</td>\n",
       "      <td>142.0</td>\n",
       "      <td>...</td>\n",
       "      <td>NaN</td>\n",
       "      <td>NaN</td>\n",
       "      <td>NaN</td>\n",
       "      <td>NaN</td>\n",
       "      <td>NaN</td>\n",
       "      <td>NaN</td>\n",
       "      <td>NaN</td>\n",
       "      <td>NaN</td>\n",
       "      <td>NaN</td>\n",
       "      <td>NaN</td>\n",
       "    </tr>\n",
       "    <tr>\n",
       "      <th>1</th>\n",
       "      <td>2987001</td>\n",
       "      <td>0</td>\n",
       "      <td>86401</td>\n",
       "      <td>29.00</td>\n",
       "      <td>W</td>\n",
       "      <td>2755</td>\n",
       "      <td>404.0</td>\n",
       "      <td>150.0</td>\n",
       "      <td>mastercard</td>\n",
       "      <td>102.0</td>\n",
       "      <td>...</td>\n",
       "      <td>NaN</td>\n",
       "      <td>NaN</td>\n",
       "      <td>NaN</td>\n",
       "      <td>NaN</td>\n",
       "      <td>NaN</td>\n",
       "      <td>NaN</td>\n",
       "      <td>NaN</td>\n",
       "      <td>NaN</td>\n",
       "      <td>NaN</td>\n",
       "      <td>NaN</td>\n",
       "    </tr>\n",
       "    <tr>\n",
       "      <th>2</th>\n",
       "      <td>2987002</td>\n",
       "      <td>0</td>\n",
       "      <td>86469</td>\n",
       "      <td>59.00</td>\n",
       "      <td>W</td>\n",
       "      <td>4663</td>\n",
       "      <td>490.0</td>\n",
       "      <td>150.0</td>\n",
       "      <td>visa</td>\n",
       "      <td>166.0</td>\n",
       "      <td>...</td>\n",
       "      <td>NaN</td>\n",
       "      <td>NaN</td>\n",
       "      <td>NaN</td>\n",
       "      <td>NaN</td>\n",
       "      <td>NaN</td>\n",
       "      <td>NaN</td>\n",
       "      <td>NaN</td>\n",
       "      <td>NaN</td>\n",
       "      <td>NaN</td>\n",
       "      <td>NaN</td>\n",
       "    </tr>\n",
       "    <tr>\n",
       "      <th>3</th>\n",
       "      <td>2987003</td>\n",
       "      <td>0</td>\n",
       "      <td>86499</td>\n",
       "      <td>50.00</td>\n",
       "      <td>W</td>\n",
       "      <td>18132</td>\n",
       "      <td>567.0</td>\n",
       "      <td>150.0</td>\n",
       "      <td>mastercard</td>\n",
       "      <td>117.0</td>\n",
       "      <td>...</td>\n",
       "      <td>NaN</td>\n",
       "      <td>NaN</td>\n",
       "      <td>NaN</td>\n",
       "      <td>NaN</td>\n",
       "      <td>NaN</td>\n",
       "      <td>NaN</td>\n",
       "      <td>NaN</td>\n",
       "      <td>NaN</td>\n",
       "      <td>NaN</td>\n",
       "      <td>NaN</td>\n",
       "    </tr>\n",
       "    <tr>\n",
       "      <th>4</th>\n",
       "      <td>2987004</td>\n",
       "      <td>0</td>\n",
       "      <td>86506</td>\n",
       "      <td>50.00</td>\n",
       "      <td>H</td>\n",
       "      <td>4497</td>\n",
       "      <td>514.0</td>\n",
       "      <td>150.0</td>\n",
       "      <td>mastercard</td>\n",
       "      <td>102.0</td>\n",
       "      <td>...</td>\n",
       "      <td>samsung browser 6.2</td>\n",
       "      <td>32.0</td>\n",
       "      <td>2220x1080</td>\n",
       "      <td>match_status:2</td>\n",
       "      <td>T</td>\n",
       "      <td>F</td>\n",
       "      <td>T</td>\n",
       "      <td>T</td>\n",
       "      <td>mobile</td>\n",
       "      <td>SAMSUNG SM-G892A Build/NRD90M</td>\n",
       "    </tr>\n",
       "    <tr>\n",
       "      <th>...</th>\n",
       "      <td>...</td>\n",
       "      <td>...</td>\n",
       "      <td>...</td>\n",
       "      <td>...</td>\n",
       "      <td>...</td>\n",
       "      <td>...</td>\n",
       "      <td>...</td>\n",
       "      <td>...</td>\n",
       "      <td>...</td>\n",
       "      <td>...</td>\n",
       "      <td>...</td>\n",
       "      <td>...</td>\n",
       "      <td>...</td>\n",
       "      <td>...</td>\n",
       "      <td>...</td>\n",
       "      <td>...</td>\n",
       "      <td>...</td>\n",
       "      <td>...</td>\n",
       "      <td>...</td>\n",
       "      <td>...</td>\n",
       "      <td>...</td>\n",
       "    </tr>\n",
       "    <tr>\n",
       "      <th>590535</th>\n",
       "      <td>3577535</td>\n",
       "      <td>0</td>\n",
       "      <td>15811047</td>\n",
       "      <td>49.00</td>\n",
       "      <td>W</td>\n",
       "      <td>6550</td>\n",
       "      <td>NaN</td>\n",
       "      <td>150.0</td>\n",
       "      <td>visa</td>\n",
       "      <td>226.0</td>\n",
       "      <td>...</td>\n",
       "      <td>NaN</td>\n",
       "      <td>NaN</td>\n",
       "      <td>NaN</td>\n",
       "      <td>NaN</td>\n",
       "      <td>NaN</td>\n",
       "      <td>NaN</td>\n",
       "      <td>NaN</td>\n",
       "      <td>NaN</td>\n",
       "      <td>NaN</td>\n",
       "      <td>NaN</td>\n",
       "    </tr>\n",
       "    <tr>\n",
       "      <th>590536</th>\n",
       "      <td>3577536</td>\n",
       "      <td>0</td>\n",
       "      <td>15811049</td>\n",
       "      <td>39.50</td>\n",
       "      <td>W</td>\n",
       "      <td>10444</td>\n",
       "      <td>225.0</td>\n",
       "      <td>150.0</td>\n",
       "      <td>mastercard</td>\n",
       "      <td>224.0</td>\n",
       "      <td>...</td>\n",
       "      <td>NaN</td>\n",
       "      <td>NaN</td>\n",
       "      <td>NaN</td>\n",
       "      <td>NaN</td>\n",
       "      <td>NaN</td>\n",
       "      <td>NaN</td>\n",
       "      <td>NaN</td>\n",
       "      <td>NaN</td>\n",
       "      <td>NaN</td>\n",
       "      <td>NaN</td>\n",
       "    </tr>\n",
       "    <tr>\n",
       "      <th>590537</th>\n",
       "      <td>3577537</td>\n",
       "      <td>0</td>\n",
       "      <td>15811079</td>\n",
       "      <td>30.95</td>\n",
       "      <td>W</td>\n",
       "      <td>12037</td>\n",
       "      <td>595.0</td>\n",
       "      <td>150.0</td>\n",
       "      <td>mastercard</td>\n",
       "      <td>224.0</td>\n",
       "      <td>...</td>\n",
       "      <td>NaN</td>\n",
       "      <td>NaN</td>\n",
       "      <td>NaN</td>\n",
       "      <td>NaN</td>\n",
       "      <td>NaN</td>\n",
       "      <td>NaN</td>\n",
       "      <td>NaN</td>\n",
       "      <td>NaN</td>\n",
       "      <td>NaN</td>\n",
       "      <td>NaN</td>\n",
       "    </tr>\n",
       "    <tr>\n",
       "      <th>590538</th>\n",
       "      <td>3577538</td>\n",
       "      <td>0</td>\n",
       "      <td>15811088</td>\n",
       "      <td>117.00</td>\n",
       "      <td>W</td>\n",
       "      <td>7826</td>\n",
       "      <td>481.0</td>\n",
       "      <td>150.0</td>\n",
       "      <td>mastercard</td>\n",
       "      <td>224.0</td>\n",
       "      <td>...</td>\n",
       "      <td>NaN</td>\n",
       "      <td>NaN</td>\n",
       "      <td>NaN</td>\n",
       "      <td>NaN</td>\n",
       "      <td>NaN</td>\n",
       "      <td>NaN</td>\n",
       "      <td>NaN</td>\n",
       "      <td>NaN</td>\n",
       "      <td>NaN</td>\n",
       "      <td>NaN</td>\n",
       "    </tr>\n",
       "    <tr>\n",
       "      <th>590539</th>\n",
       "      <td>3577539</td>\n",
       "      <td>0</td>\n",
       "      <td>15811131</td>\n",
       "      <td>279.95</td>\n",
       "      <td>W</td>\n",
       "      <td>15066</td>\n",
       "      <td>170.0</td>\n",
       "      <td>150.0</td>\n",
       "      <td>mastercard</td>\n",
       "      <td>102.0</td>\n",
       "      <td>...</td>\n",
       "      <td>NaN</td>\n",
       "      <td>NaN</td>\n",
       "      <td>NaN</td>\n",
       "      <td>NaN</td>\n",
       "      <td>NaN</td>\n",
       "      <td>NaN</td>\n",
       "      <td>NaN</td>\n",
       "      <td>NaN</td>\n",
       "      <td>NaN</td>\n",
       "      <td>NaN</td>\n",
       "    </tr>\n",
       "  </tbody>\n",
       "</table>\n",
       "<p>590540 rows × 434 columns</p>\n",
       "</div>"
      ],
      "text/plain": [
       "        TransactionID  isFraud  TransactionDT  TransactionAmt ProductCD  \\\n",
       "0             2987000        0          86400           68.50         W   \n",
       "1             2987001        0          86401           29.00         W   \n",
       "2             2987002        0          86469           59.00         W   \n",
       "3             2987003        0          86499           50.00         W   \n",
       "4             2987004        0          86506           50.00         H   \n",
       "...               ...      ...            ...             ...       ...   \n",
       "590535        3577535        0       15811047           49.00         W   \n",
       "590536        3577536        0       15811049           39.50         W   \n",
       "590537        3577537        0       15811079           30.95         W   \n",
       "590538        3577538        0       15811088          117.00         W   \n",
       "590539        3577539        0       15811131          279.95         W   \n",
       "\n",
       "        card1  card2  card3       card4  card5  ...                id_31  \\\n",
       "0       13926    NaN  150.0    discover  142.0  ...                  NaN   \n",
       "1        2755  404.0  150.0  mastercard  102.0  ...                  NaN   \n",
       "2        4663  490.0  150.0        visa  166.0  ...                  NaN   \n",
       "3       18132  567.0  150.0  mastercard  117.0  ...                  NaN   \n",
       "4        4497  514.0  150.0  mastercard  102.0  ...  samsung browser 6.2   \n",
       "...       ...    ...    ...         ...    ...  ...                  ...   \n",
       "590535   6550    NaN  150.0        visa  226.0  ...                  NaN   \n",
       "590536  10444  225.0  150.0  mastercard  224.0  ...                  NaN   \n",
       "590537  12037  595.0  150.0  mastercard  224.0  ...                  NaN   \n",
       "590538   7826  481.0  150.0  mastercard  224.0  ...                  NaN   \n",
       "590539  15066  170.0  150.0  mastercard  102.0  ...                  NaN   \n",
       "\n",
       "        id_32      id_33           id_34  id_35 id_36 id_37  id_38  \\\n",
       "0         NaN        NaN             NaN    NaN   NaN   NaN    NaN   \n",
       "1         NaN        NaN             NaN    NaN   NaN   NaN    NaN   \n",
       "2         NaN        NaN             NaN    NaN   NaN   NaN    NaN   \n",
       "3         NaN        NaN             NaN    NaN   NaN   NaN    NaN   \n",
       "4        32.0  2220x1080  match_status:2      T     F     T      T   \n",
       "...       ...        ...             ...    ...   ...   ...    ...   \n",
       "590535    NaN        NaN             NaN    NaN   NaN   NaN    NaN   \n",
       "590536    NaN        NaN             NaN    NaN   NaN   NaN    NaN   \n",
       "590537    NaN        NaN             NaN    NaN   NaN   NaN    NaN   \n",
       "590538    NaN        NaN             NaN    NaN   NaN   NaN    NaN   \n",
       "590539    NaN        NaN             NaN    NaN   NaN   NaN    NaN   \n",
       "\n",
       "        DeviceType                     DeviceInfo  \n",
       "0              NaN                            NaN  \n",
       "1              NaN                            NaN  \n",
       "2              NaN                            NaN  \n",
       "3              NaN                            NaN  \n",
       "4           mobile  SAMSUNG SM-G892A Build/NRD90M  \n",
       "...            ...                            ...  \n",
       "590535         NaN                            NaN  \n",
       "590536         NaN                            NaN  \n",
       "590537         NaN                            NaN  \n",
       "590538         NaN                            NaN  \n",
       "590539         NaN                            NaN  \n",
       "\n",
       "[590540 rows x 434 columns]"
      ]
     },
     "execution_count": 18,
     "metadata": {},
     "output_type": "execute_result"
    }
   ],
   "source": [
    "df_train_merged"
   ]
  },
  {
   "cell_type": "code",
   "execution_count": null,
   "metadata": {},
   "outputs": [],
   "source": []
  }
 ],
 "metadata": {
  "kernelspec": {
   "display_name": ".venv",
   "language": "python",
   "name": "python3"
  },
  "language_info": {
   "codemirror_mode": {
    "name": "ipython",
    "version": 3
   },
   "file_extension": ".py",
   "mimetype": "text/x-python",
   "name": "python",
   "nbconvert_exporter": "python",
   "pygments_lexer": "ipython3",
   "version": "3.10.16"
  }
 },
 "nbformat": 4,
 "nbformat_minor": 2
}
