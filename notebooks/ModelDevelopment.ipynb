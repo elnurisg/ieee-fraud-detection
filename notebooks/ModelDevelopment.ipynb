{
 "cells": [
  {
   "cell_type": "code",
   "execution_count": 1,
   "metadata": {},
   "outputs": [],
   "source": [
    "import pandas as pd\n",
    "import numpy as np\n",
    "import os\n",
    "import sys\n",
    "\n",
    "\n",
    "sys.path.append(os.path.abspath(\"..\"))\n",
    "from src.data_preprocessing import *\n",
    "from src.feature_engineering import *\n",
    "from src.utils.helpers import *\n",
    "from src.models.xgboost import train_xgboost_model, predict_xgboost\n",
    "from src.models.lightgbm import train_lightgbm, predict_lightgbm\n"
   ]
  },
  {
   "cell_type": "code",
   "execution_count": 2,
   "metadata": {},
   "outputs": [],
   "source": [
    "X_train, X_val, y_train, y_val, X_test = prepare_data()\n"
   ]
  },
  {
   "cell_type": "code",
   "execution_count": 3,
   "metadata": {},
   "outputs": [],
   "source": [
    "# X_train, X_val, y_train, y_val, X_test = read_processed_data()"
   ]
  },
  {
   "cell_type": "code",
   "execution_count": 4,
   "metadata": {},
   "outputs": [
    {
     "name": "stdout",
     "output_type": "stream",
     "text": [
      "[0]\ttrain-auc:0.76024\teval-auc:0.75745\n",
      "[50]\ttrain-auc:0.90281\teval-auc:0.89978\n",
      "[100]\ttrain-auc:0.91882\teval-auc:0.91298\n",
      "[150]\ttrain-auc:0.92814\teval-auc:0.92054\n",
      "[200]\ttrain-auc:0.93500\teval-auc:0.92602\n",
      "[250]\ttrain-auc:0.94033\teval-auc:0.93039\n",
      "[300]\ttrain-auc:0.94472\teval-auc:0.93397\n",
      "[350]\ttrain-auc:0.94870\teval-auc:0.93673\n",
      "[400]\ttrain-auc:0.95243\teval-auc:0.93933\n",
      "[450]\ttrain-auc:0.95542\teval-auc:0.94149\n",
      "[499]\ttrain-auc:0.95839\teval-auc:0.94375\n",
      "Validation AUC: 0.9437\n"
     ]
    }
   ],
   "source": [
    "model, val_auc = train_xgboost_model(X_train, X_val, y_train, y_val)\n",
    "print(f\"Validation AUC: {val_auc:.4f}\")"
   ]
  },
  {
   "cell_type": "code",
   "execution_count": 5,
   "metadata": {},
   "outputs": [],
   "source": [
    "y_pred = predict_xgboost(model, X_test)"
   ]
  },
  {
   "cell_type": "code",
   "execution_count": null,
   "metadata": {},
   "outputs": [
    {
     "name": "stdout",
     "output_type": "stream",
     "text": [
      "Training until validation scores don't improve for 50 rounds\n",
      "[50]\ttraining's auc: 0.903944\tvalid_1's auc: 0.901799\n",
      "[100]\ttraining's auc: 0.925682\tvalid_1's auc: 0.919434\n",
      "[150]\ttraining's auc: 0.938115\tvalid_1's auc: 0.929233\n",
      "[200]\ttraining's auc: 0.945993\tvalid_1's auc: 0.935094\n",
      "[250]\ttraining's auc: 0.952339\tvalid_1's auc: 0.939603\n",
      "[300]\ttraining's auc: 0.957301\tvalid_1's auc: 0.942994\n",
      "[350]\ttraining's auc: 0.961531\tvalid_1's auc: 0.945646\n",
      "[400]\ttraining's auc: 0.963963\tvalid_1's auc: 0.947213\n",
      "[450]\ttraining's auc: 0.96705\tvalid_1's auc: 0.949141\n",
      "[500]\ttraining's auc: 0.969196\tvalid_1's auc: 0.950486\n",
      "Did not meet early stopping. Best iteration is:\n",
      "[500]\ttraining's auc: 0.969196\tvalid_1's auc: 0.950486\n"
     ]
    }
   ],
   "source": [
    "lightgbm_model, val_auc = train_lightgbm(X_train, X_val, y_train, y_val)"
   ]
  },
  {
   "cell_type": "code",
   "execution_count": null,
   "metadata": {},
   "outputs": [],
   "source": []
  }
 ],
 "metadata": {
  "kernelspec": {
   "display_name": ".venv",
   "language": "python",
   "name": "python3"
  },
  "language_info": {
   "codemirror_mode": {
    "name": "ipython",
    "version": 3
   },
   "file_extension": ".py",
   "mimetype": "text/x-python",
   "name": "python",
   "nbconvert_exporter": "python",
   "pygments_lexer": "ipython3",
   "version": "3.10.16"
  }
 },
 "nbformat": 4,
 "nbformat_minor": 2
}
