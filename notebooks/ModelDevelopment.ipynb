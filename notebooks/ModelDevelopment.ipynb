{
 "cells": [
  {
   "cell_type": "code",
   "execution_count": 1,
   "metadata": {},
   "outputs": [],
   "source": [
    "import os\n",
    "import sys\n",
    "\n",
    "sys.path.append(os.path.abspath(\"..\"))\n",
    "from src.data_processing import *\n",
    "from src.feature_engineering import *\n",
    "from src.utils.helpers import *\n",
    "from src.models.xgboost import train_xgboost_model, predict_xgboost\n",
    "from src.models.lightgbm import train_lightgbm, predict_lightgbm\n",
    "from src.models.random_forest import train_random_forest, predict_random_forest"
   ]
  },
  {
   "cell_type": "code",
   "execution_count": 2,
   "metadata": {},
   "outputs": [],
   "source": [
    "X_train, X_val, y_train, y_val, X_test = prepare_data(categorical_handling = 'object_to_category')\n"
   ]
  },
  {
   "cell_type": "markdown",
   "metadata": {},
   "source": [
    "# Model Selection"
   ]
  },
  {
   "cell_type": "code",
   "execution_count": 3,
   "metadata": {},
   "outputs": [
    {
     "name": "stdout",
     "output_type": "stream",
     "text": [
      "[0]\ttrain-auc:0.76684\teval-auc:0.76329\n",
      "[50]\ttrain-auc:0.90242\teval-auc:0.89945\n",
      "[100]\ttrain-auc:0.91681\teval-auc:0.91285\n",
      "[150]\ttrain-auc:0.92664\teval-auc:0.92103\n",
      "[200]\ttrain-auc:0.93298\teval-auc:0.92594\n",
      "[250]\ttrain-auc:0.93882\teval-auc:0.93037\n",
      "[300]\ttrain-auc:0.94316\teval-auc:0.93369\n",
      "[350]\ttrain-auc:0.94732\teval-auc:0.93672\n",
      "[400]\ttrain-auc:0.95042\teval-auc:0.93873\n",
      "[450]\ttrain-auc:0.95399\teval-auc:0.94125\n",
      "[499]\ttrain-auc:0.95696\teval-auc:0.94317\n",
      "AUC: 0.9432\n",
      "Accuracy: 0.9805\n",
      "Precision: 0.9415\n",
      "Recall: 0.4859\n",
      "F1 Score: 0.6410\n",
      "Model xgboost_model saved to /Users/elnur/Desktop/nexi_project/ieee-fraud-detection/src/models/saved_models.\n"
     ]
    }
   ],
   "source": [
    "xgboost_model = train_xgboost_model(X_train, X_val, y_train, y_val)"
   ]
  },
  {
   "cell_type": "code",
   "execution_count": 5,
   "metadata": {},
   "outputs": [
    {
     "name": "stdout",
     "output_type": "stream",
     "text": [
      "Training until validation scores don't improve for 50 rounds\n",
      "[50]\ttraining's auc: 0.901235\tvalid_1's auc: 0.899802\n",
      "[100]\ttraining's auc: 0.922768\tvalid_1's auc: 0.918413\n",
      "[150]\ttraining's auc: 0.934838\tvalid_1's auc: 0.928499\n",
      "[200]\ttraining's auc: 0.944204\tvalid_1's auc: 0.934596\n",
      "[250]\ttraining's auc: 0.950167\tvalid_1's auc: 0.93788\n",
      "[300]\ttraining's auc: 0.954746\tvalid_1's auc: 0.940581\n",
      "[350]\ttraining's auc: 0.959693\tvalid_1's auc: 0.943441\n",
      "[400]\ttraining's auc: 0.962416\tvalid_1's auc: 0.944906\n",
      "[450]\ttraining's auc: 0.964983\tvalid_1's auc: 0.946233\n",
      "[500]\ttraining's auc: 0.968211\tvalid_1's auc: 0.948892\n",
      "Did not meet early stopping. Best iteration is:\n",
      "[500]\ttraining's auc: 0.968211\tvalid_1's auc: 0.948892\n",
      "AUC: 0.9489\n",
      "Accuracy: 0.9813\n",
      "Precision: 0.9381\n",
      "Recall: 0.5141\n",
      "F1 Score: 0.6642\n",
      "Model lightgbm_model saved to /Users/elnur/Desktop/nexi_project/ieee-fraud-detection/src/models/saved_models.\n"
     ]
    }
   ],
   "source": [
    "lightgbm_model = train_lightgbm(X_train, X_val, y_train, y_val)"
   ]
  },
  {
   "cell_type": "code",
   "execution_count": 4,
   "metadata": {},
   "outputs": [
    {
     "name": "stdout",
     "output_type": "stream",
     "text": [
      "Training until validation scores don't improve for 50 rounds\n",
      "[50]\ttraining's auc: 0.899498\tvalid_1's auc: 0.898615\n",
      "[100]\ttraining's auc: 0.922159\tvalid_1's auc: 0.917503\n",
      "[150]\ttraining's auc: 0.93402\tvalid_1's auc: 0.927446\n",
      "[200]\ttraining's auc: 0.941726\tvalid_1's auc: 0.932754\n",
      "[250]\ttraining's auc: 0.946653\tvalid_1's auc: 0.936363\n",
      "[300]\ttraining's auc: 0.951807\tvalid_1's auc: 0.939549\n",
      "[350]\ttraining's auc: 0.955891\tvalid_1's auc: 0.942409\n",
      "[400]\ttraining's auc: 0.95911\tvalid_1's auc: 0.944266\n",
      "[450]\ttraining's auc: 0.962257\tvalid_1's auc: 0.946004\n",
      "[500]\ttraining's auc: 0.965378\tvalid_1's auc: 0.947337\n",
      "Did not meet early stopping. Best iteration is:\n",
      "[500]\ttraining's auc: 0.965378\tvalid_1's auc: 0.947337\n",
      "AUC: 0.9473\n",
      "Accuracy: 0.9804\n",
      "Precision: 0.9331\n",
      "Recall: 0.4896\n",
      "F1 Score: 0.6422\n",
      "Model lightgbm_model saved to /Users/elnur/Desktop/nexi_project/ieee-fraud-detection/src/models/saved_models.\n"
     ]
    }
   ],
   "source": [
    "lightgbm_model_with_categorical_encoding = train_lightgbm(X_train, X_val, y_train, y_val)"
   ]
  },
  {
   "cell_type": "code",
   "execution_count": 3,
   "metadata": {},
   "outputs": [
    {
     "name": "stdout",
     "output_type": "stream",
     "text": [
      "AUC: 0.8900\n",
      "Accuracy: 0.8796\n",
      "Precision: 0.1916\n",
      "Recall: 0.7308\n",
      "F1 Score: 0.3037\n",
      "Model random_forest_model saved to /Users/elnur/Desktop/nexi_project/ieee-fraud-detection/src/models/saved_models.\n"
     ]
    }
   ],
   "source": [
    "rf_model = train_random_forest(X_train, X_val, y_train, y_val)"
   ]
  },
  {
   "cell_type": "markdown",
   "metadata": {},
   "source": [
    "# Model Evaluation and Comparison\n",
    "\n",
    "We implemented several models for fraud detection and compared their performance using key metrics. Here’s a summary of our results:\n",
    "\n",
    "**XGBoost (with Object-to-Category Encoding)**\n",
    "- **AUC:** 0.9432  \n",
    "- **Accuracy:** 0.9805  \n",
    "- **Precision:** 0.9415  \n",
    "- **Recall:** 0.4859  \n",
    "- **F1 Score:** 0.6410  \n",
    "\n",
    "**LightGBM (with Object-to-Category Encoding)**\n",
    "- **AUC:** 0.9489  \n",
    "- **Accuracy:** 0.9813  \n",
    "- **Precision:** 0.9381  \n",
    "- **Recall:** 0.5141  \n",
    "- **F1 Score:** 0.6642  \n",
    "\n",
    "**LightGBM (with Label Encoding)**\n",
    "- **AUC:** 0.9473  \n",
    "- **Accuracy:** 0.9804  \n",
    "- **Precision:** 0.9331  \n",
    "- **Recall:** 0.4896  \n",
    "- **F1 Score:** 0.6422  \n",
    "\n",
    "**Random Forest (with Label Encoding)**\n",
    "- **AUC:** 0.8900  \n",
    "- **Accuracy:** 0.8796  \n",
    "- **Precision:** 0.1916  \n",
    "- **Recall:** 0.7308  \n",
    "- **F1 Score:** 0.3037  \n",
    "\n",
    "---\n",
    "\n",
    "**Analysis & Insights**\n",
    "\n",
    "- **Boosting Models (XGBoost & LightGBM):**  \n",
    "  Both XGBoost and LightGBM using object-to-category encoding perform very well (AUC > 0.94). LightGBM slightly outperforms XGBoost in AUC and F1 score and achieves a marginally higher recall. This suggests that preserving the original categorical structure is beneficial for this dataset.\n",
    "\n",
    "- **Encoding Impact:**  \n",
    "  For LightGBM, using object-to-category encoding yields better results than label encoding, underscoring the importance of retaining detailed categorical distinctions.  \n",
    "  In contrast, Random Forest, which required label encoding, performs notably worse, indicating that boosting methods are more adept at capturing the complex relationships in the data.\n",
    "\n",
    "- **Trade-Offs:**  \n",
    "  Although precision is high across boosting models, recall remains moderate (around 48–51%). In fraud detection, this trade-off is common since fraudulent cases are rare. Balancing false negatives (missed fraud) and false positives is critical, and the F1 score reflects a reasonable compromise.\n"
   ]
  },
  {
   "cell_type": "markdown",
   "metadata": {},
   "source": [
    "# Trying test set"
   ]
  },
  {
   "cell_type": "code",
   "execution_count": 3,
   "metadata": {},
   "outputs": [
    {
     "name": "stdout",
     "output_type": "stream",
     "text": [
      "Model xgboost_model loaded from /Users/elnur/Desktop/nexi_project/ieee-fraud-detection/src/models/saved_models.\n"
     ]
    }
   ],
   "source": [
    "#load the model\n",
    "xgboost_model = load_model('xgboost_model')"
   ]
  },
  {
   "cell_type": "code",
   "execution_count": 4,
   "metadata": {},
   "outputs": [],
   "source": [
    "xgboost_y_pred = predict_xgboost(xgboost_model, X_test)"
   ]
  },
  {
   "cell_type": "code",
   "execution_count": 7,
   "metadata": {},
   "outputs": [],
   "source": [
    "submission = prepare_my_submission(xgboost_y_pred, 'xgboost_model')"
   ]
  },
  {
   "cell_type": "code",
   "execution_count": 8,
   "metadata": {},
   "outputs": [
    {
     "data": {
      "text/html": [
       "<div>\n",
       "<style scoped>\n",
       "    .dataframe tbody tr th:only-of-type {\n",
       "        vertical-align: middle;\n",
       "    }\n",
       "\n",
       "    .dataframe tbody tr th {\n",
       "        vertical-align: top;\n",
       "    }\n",
       "\n",
       "    .dataframe thead th {\n",
       "        text-align: right;\n",
       "    }\n",
       "</style>\n",
       "<table border=\"1\" class=\"dataframe\">\n",
       "  <thead>\n",
       "    <tr style=\"text-align: right;\">\n",
       "      <th></th>\n",
       "      <th>TransactionID</th>\n",
       "      <th>isFraud</th>\n",
       "    </tr>\n",
       "  </thead>\n",
       "  <tbody>\n",
       "    <tr>\n",
       "      <th>0</th>\n",
       "      <td>3663549</td>\n",
       "      <td>0.006961</td>\n",
       "    </tr>\n",
       "    <tr>\n",
       "      <th>1</th>\n",
       "      <td>3663550</td>\n",
       "      <td>0.005903</td>\n",
       "    </tr>\n",
       "    <tr>\n",
       "      <th>2</th>\n",
       "      <td>3663551</td>\n",
       "      <td>0.005462</td>\n",
       "    </tr>\n",
       "    <tr>\n",
       "      <th>3</th>\n",
       "      <td>3663552</td>\n",
       "      <td>0.002001</td>\n",
       "    </tr>\n",
       "    <tr>\n",
       "      <th>4</th>\n",
       "      <td>3663553</td>\n",
       "      <td>0.004546</td>\n",
       "    </tr>\n",
       "  </tbody>\n",
       "</table>\n",
       "</div>"
      ],
      "text/plain": [
       "   TransactionID   isFraud\n",
       "0        3663549  0.006961\n",
       "1        3663550  0.005903\n",
       "2        3663551  0.005462\n",
       "3        3663552  0.002001\n",
       "4        3663553  0.004546"
      ]
     },
     "execution_count": 8,
     "metadata": {},
     "output_type": "execute_result"
    }
   ],
   "source": [
    "submission.head()"
   ]
  },
  {
   "cell_type": "markdown",
   "metadata": {},
   "source": [
    "# Final Submission \n",
    "\n",
    "- Model used: **XGBoost**\n",
    "  - **Public Score**: 0.8732\n",
    "  - **Private Score**: 0.8072\n",
    "\n",
    "- Thresholded version (at 0.5) yielded:\n",
    "  - **Public Score**: 0.7283\n",
    "  - **Private Score**: 0.6633\n",
    "\n",
    "**Direct probability output outperforms thresholded predictions for AUC-based evaluation.**"
   ]
  },
  {
   "cell_type": "code",
   "execution_count": null,
   "metadata": {},
   "outputs": [],
   "source": []
  }
 ],
 "metadata": {
  "kernelspec": {
   "display_name": ".venv",
   "language": "python",
   "name": "python3"
  },
  "language_info": {
   "codemirror_mode": {
    "name": "ipython",
    "version": 3
   },
   "file_extension": ".py",
   "mimetype": "text/x-python",
   "name": "python",
   "nbconvert_exporter": "python",
   "pygments_lexer": "ipython3",
   "version": "3.10.16"
  }
 },
 "nbformat": 4,
 "nbformat_minor": 2
}
